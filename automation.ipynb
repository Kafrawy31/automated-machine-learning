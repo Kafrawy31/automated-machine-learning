{
 "cells": [
  {
   "cell_type": "code",
   "execution_count": null,
   "metadata": {},
   "outputs": [],
   "source": [
    "import pandas as pd\n",
    "import numpy as np\n",
    "import scipy.stats as stats\n",
    "import matplotlib.pyplot as plt\n",
    "import seaborn as sns\n",
    "\n"
   ]
  },
  {
   "cell_type": "code",
   "execution_count": 186,
   "metadata": {},
   "outputs": [],
   "source": [
    "def introduce_missing_values(df, missing_rate = 0.1):\n",
    "    df_missing = df.copy()\n",
    "    n_missing = int(np.floor(missing_rate*df.size))\n",
    "    for _ in range(n_missing):\n",
    "        i = np.random.randint(0,df.shape[0])\n",
    "        j = np.random.randint(0,df.shape[1])\n",
    "        df_missing.iloc[i,j] = np.nan\n",
    "    return df_missing\n",
    "    "
   ]
  },
  {
   "cell_type": "code",
   "execution_count": null,
   "metadata": {},
   "outputs": [],
   "source": [
    "def define_target(csv,target, learning_method='Supervised'):\n",
    "    df = pd.read_csv(csv)\n",
    "    ### Remove in prod\n",
    "    df = introduce_missing_values(df)\n",
    "    if learning_method == 'Supervised':\n",
    "        df.dropna(subset=[target],inplace=True)\n",
    "    features = df.drop(target, axis = 1)\n",
    "    target = df[target]\n",
    "    return df, features , target"
   ]
  },
  {
   "cell_type": "code",
   "execution_count": 199,
   "metadata": {},
   "outputs": [
    {
     "name": "stdout",
     "output_type": "stream",
     "text": [
      "662\n",
      "6381\n"
     ]
    }
   ],
   "source": [
    "df, features, target = define_target(\"./telco.csv\", 'Churn')"
   ]
  },
  {
   "cell_type": "code",
   "execution_count": 204,
   "metadata": {},
   "outputs": [],
   "source": [
    "def identify_numeric(df, inspect_columns =False):\n",
    "    numeric_cols = []\n",
    "    \n",
    "    for col in df.columns:\n",
    "        if pd.api.types.is_numeric_dtype(df[col].dropna()):\n",
    "            numeric_cols.append(col)\n",
    "            continue\n",
    "        \n",
    "        temp_conversion = pd.to_numeric(df[col], errors='coerce')\n",
    "        numeric_count = temp_conversion.notna().sum()\n",
    "        valid_count = df[col].notna().sum()\n",
    "        numeric_ratio = numeric_count / valid_count \n",
    "        if valid_count > 0 and numeric_ratio > 0.95:\n",
    "            df[col] = pd.to_numeric(df[col], errors='coerce')\n",
    "            numeric_cols.append(col)\n",
    "            \n",
    "    df[numeric_cols] = df[numeric_cols].dropna().apply(\n",
    "    lambda x: x.astype('int64') if x.dropna().astype(float).apply(lambda v: v.is_integer()).all() else x.astype(float)\n",
    ")\n",
    "    \n",
    "    if inspect_columns == True:\n",
    "        print(f'Numeric cols are:', numeric_cols)\n",
    "            \n",
    "    return numeric_cols"
   ]
  },
  {
   "cell_type": "code",
   "execution_count": 205,
   "metadata": {},
   "outputs": [
    {
     "name": "stdout",
     "output_type": "stream",
     "text": [
      "Numeric cols are: ['SeniorCitizen', 'tenure', 'MonthlyCharges', 'TotalCharges', 'categorical_test']\n"
     ]
    }
   ],
   "source": [
    "numeric_cols = identify_numeric(df,inspect_columns=True)"
   ]
  },
  {
   "cell_type": "code",
   "execution_count": 206,
   "metadata": {},
   "outputs": [],
   "source": [
    "def identify_boolean(df):\n",
    "    boolean_cols = []\n",
    "    boolean_mappings = {}\n",
    "    categorical_cols = []\n",
    "    high_cardinality_cols = []\n",
    "    \n",
    "    \n",
    "    for col in df.columns:\n",
    "        \n",
    "        unique_values = df[col].dropna().unique()\n",
    "        normalized_values = [str(val).strip().lower() for val in unique_values]\n",
    "        cardinality_ratio = len(unique_values) / len(df[col].dropna())\n",
    "        num_na = df[col].isna().sum()\n",
    "        \n",
    "        if len(normalized_values) == 2 or (len(normalized_values) == 1 and num_na > 0 ):\n",
    "            boolean_cols.append(col)\n",
    "            sorted_values = sorted(unique_values, key=str)\n",
    "            boolean_mappings[col] = {sorted_values[0]:0 , sorted_values[1]: 1}\n",
    "            \n",
    "            continue\n",
    "        \n",
    "        if len(unique_values) < 10:\n",
    "            categorical_cols.append(col)\n",
    "            continue\n",
    "\n",
    "        if pd.api.types.is_numeric_dtype(df[col]):\n",
    "            continue\n",
    "        \n",
    "        try:\n",
    "            df[col] = pd.to_datetime(df[col].dropna(),errors='raise')\n",
    "        except:\n",
    "            pass\n",
    "        \n",
    "        if cardinality_ratio > 0.1:\n",
    "            high_cardinality_cols.append(col)\n",
    "            continue\n",
    "        \n",
    "        \n",
    "        categorical_cols.append(col)\n",
    "            \n",
    "        \n",
    "    return boolean_cols, boolean_mappings,high_cardinality_cols,categorical_cols"
   ]
  },
  {
   "cell_type": "code",
   "execution_count": 207,
   "metadata": {},
   "outputs": [],
   "source": [
    "boolean_cols, boolean_mappings, high_cardinality_cols ,categorical_cols = identify_boolean(df)"
   ]
  },
  {
   "cell_type": "code",
   "execution_count": 209,
   "metadata": {},
   "outputs": [],
   "source": [
    "def cleanup_numeric_cols (numeric_list, boolean_list, categorical_list):\n",
    "    numerical_cleaned_bool = list(set(numeric_list) - set(boolean_list))\n",
    "    numerical_cleaned_all = list(set(numerical_cleaned_bool) - set(categorical_list))\n",
    "    return numerical_cleaned_all"
   ]
  },
  {
   "cell_type": "code",
   "execution_count": 210,
   "metadata": {},
   "outputs": [],
   "source": [
    "numerical_cols = cleanup_numeric_cols(numeric_cols, boolean_cols, categorical_cols)"
   ]
  },
  {
   "cell_type": "code",
   "execution_count": null,
   "metadata": {},
   "outputs": [
    {
     "data": {
      "text/plain": [
       "customerID           object\n",
       "gender               object\n",
       "SeniorCitizen       float64\n",
       "Partner              object\n",
       "Dependents           object\n",
       "tenure              float64\n",
       "PhoneService         object\n",
       "MultipleLines        object\n",
       "InternetService      object\n",
       "OnlineSecurity       object\n",
       "OnlineBackup         object\n",
       "DeviceProtection     object\n",
       "TechSupport          object\n",
       "StreamingTV          object\n",
       "StreamingMovies      object\n",
       "Contract             object\n",
       "PaperlessBilling     object\n",
       "PaymentMethod        object\n",
       "MonthlyCharges      float64\n",
       "TotalCharges        float64\n",
       "Churn                object\n",
       "categorical_test    float64\n",
       "dtype: object"
      ]
     },
     "execution_count": 213,
     "metadata": {},
     "output_type": "execute_result"
    }
   ],
   "source": [
    "df.dtypes"
   ]
  },
  {
   "cell_type": "code",
   "execution_count": 214,
   "metadata": {},
   "outputs": [
    {
     "data": {
      "text/plain": [
       "['tenure', 'MonthlyCharges', 'TotalCharges']"
      ]
     },
     "execution_count": 214,
     "metadata": {},
     "output_type": "execute_result"
    }
   ],
   "source": [
    "numerical_cols"
   ]
  },
  {
   "cell_type": "code",
   "execution_count": null,
   "metadata": {},
   "outputs": [],
   "source": [
    "\n",
    "def detect_outliers(df, numerical_cols):\n",
    "    outlier_report = {}\n",
    "    \n",
    "    for col in numerical_cols:\n",
    "        col_report = {}\n",
    "        Q"
   ]
  }
 ],
 "metadata": {
  "kernelspec": {
   "display_name": "Python 3",
   "language": "python",
   "name": "python3"
  },
  "language_info": {
   "codemirror_mode": {
    "name": "ipython",
    "version": 3
   },
   "file_extension": ".py",
   "mimetype": "text/x-python",
   "name": "python",
   "nbconvert_exporter": "python",
   "pygments_lexer": "ipython3",
   "version": "3.11.9"
  }
 },
 "nbformat": 4,
 "nbformat_minor": 2
}
