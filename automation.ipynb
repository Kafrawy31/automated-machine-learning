{
 "cells": [
  {
   "cell_type": "code",
   "execution_count": null,
   "metadata": {},
   "outputs": [],
   "source": [
    "import pandas as pd\n",
    "import numpy as np\n",
    "import scipy.stats as stats\n",
    "import matplotlib.pyplot as plt\n",
    "import seaborn as sns\n",
    "from sklearn.metrics import matthews_corrcoef\n",
    "from sklearn.feature_selection import mutual_info_classif\n",
    "from scipy.stats import chi2_contingency\n",
    "from scipy.stats import pearsonr\n",
    "\n",
    "pd.set_option('future.no_silent_downcasting', True)"
   ]
  },
  {
   "cell_type": "code",
   "execution_count": 167,
   "metadata": {},
   "outputs": [],
   "source": [
    "def introduce_missing_values(df, missing_rate = 0.1):\n",
    "    df_missing = df.copy()\n",
    "    n_missing = int(np.floor(missing_rate*df.size))\n",
    "    for _ in range(n_missing):\n",
    "        i = np.random.randint(0,df.shape[0])\n",
    "        j = np.random.randint(0,df.shape[1])\n",
    "        df_missing.iloc[i,j] = np.nan\n",
    "    return df_missing\n",
    "    "
   ]
  },
  {
   "cell_type": "code",
   "execution_count": 168,
   "metadata": {},
   "outputs": [],
   "source": [
    "def introduce_outliers(df, columns, num_outliers=5, factor=5):\n",
    "    for col in columns:\n",
    "        outlier_indices = np.random.choice(df.index, size=num_outliers, replace=False)\n",
    "        df.loc[outlier_indices, col] *= factor\n",
    "    return df"
   ]
  },
  {
   "cell_type": "code",
   "execution_count": 169,
   "metadata": {},
   "outputs": [],
   "source": [
    "def define_target(csv,target, learning_method='Supervised'):\n",
    "    df = pd.read_csv(csv)\n",
    "    ### Remove in prod\n",
    "    df = introduce_missing_values(df)\n",
    "    if learning_method == 'Supervised':\n",
    "        df.dropna(subset=[target],inplace=True)\n",
    "    \n",
    "    features = df.drop(target, axis = 1)\n",
    "    target_data = df[target]\n",
    "    return df, features , target_data, target"
   ]
  },
  {
   "cell_type": "code",
   "execution_count": 170,
   "metadata": {},
   "outputs": [],
   "source": [
    "df, features, target_data, target = define_target(\"./telco.csv\", 'Churn')"
   ]
  },
  {
   "cell_type": "code",
   "execution_count": 171,
   "metadata": {},
   "outputs": [],
   "source": [
    "def identify_numeric(df, inspect_columns =False):\n",
    "    numeric_cols = []\n",
    "    for col in df.columns:\n",
    "        if pd.api.types.is_numeric_dtype(df[col].dropna()):\n",
    "            numeric_cols.append(col)\n",
    "            continue\n",
    "        \n",
    "        temp_conversion = pd.to_numeric(df[col], errors='coerce')\n",
    "        numeric_count = temp_conversion.notna().sum()\n",
    "        valid_count = df[col].notna().sum()\n",
    "        numeric_ratio = numeric_count / valid_count \n",
    "        if valid_count > 0 and numeric_ratio > 0.95:\n",
    "            df[col] = pd.to_numeric(df[col], errors='coerce')\n",
    "            numeric_cols.append(col)\n",
    "            \n",
    "    # df[numeric_cols] = df[numeric_cols].dropna().apply(\n",
    "    # lambda x: x.astype('int64') if x.dropna().astype(float).apply(lambda v: v.is_integer()).all() else x.astype(float)\n",
    "#)\n",
    "\n",
    "    for col in numeric_cols:\n",
    "        if df[col].dropna().astype(float).apply(lambda v: v.is_integer()).all():\n",
    "            df[col] = df[col].astype('Int64')  # Keeps NaNs intact as NA-compatible type\n",
    "        else:\n",
    "            df[col] = df[col].astype(float)\n",
    "        \n",
    "    if inspect_columns == True:\n",
    "        print(f'Numeric cols are:', numeric_cols)\n",
    "        \n",
    "    return numeric_cols"
   ]
  },
  {
   "cell_type": "code",
   "execution_count": 172,
   "metadata": {},
   "outputs": [
    {
     "name": "stdout",
     "output_type": "stream",
     "text": [
      "Numeric cols are: ['SeniorCitizen', 'tenure', 'MonthlyCharges', 'TotalCharges']\n"
     ]
    }
   ],
   "source": [
    "numeric_cols = identify_numeric(df,inspect_columns=True)"
   ]
  },
  {
   "cell_type": "code",
   "execution_count": 173,
   "metadata": {},
   "outputs": [],
   "source": [
    "def identify_boolean(df):\n",
    "    boolean_cols = []\n",
    "    boolean_mappings = {}\n",
    "    categorical_cols = []\n",
    "    high_cardinality_cols = []\n",
    "    \n",
    "    for col in df.columns:\n",
    "        unique_values = df[col].dropna().unique()\n",
    "        normalized_values = [str(val).strip().lower() for val in unique_values]\n",
    "        cardinality_ratio = len(unique_values) / len(df[col].dropna())\n",
    "        num_na = df[col].isna().sum()\n",
    "        \n",
    "        if len(normalized_values) == 2 or (len(normalized_values) == 1 and num_na > 0 ):\n",
    "            boolean_cols.append(col)\n",
    "            sorted_values = sorted(unique_values, key=str)\n",
    "            boolean_mappings[col] = {sorted_values[0]:0 , sorted_values[1]: 1}\n",
    "            df[col] = df[col].dropna().replace(boolean_mappings[col]).astype(int)\n",
    "            \n",
    "            continue\n",
    "        \n",
    "        if len(unique_values) < 10:\n",
    "            categorical_cols.append(col)\n",
    "            continue\n",
    "\n",
    "        if pd.api.types.is_numeric_dtype(df[col]):\n",
    "            continue\n",
    "        \n",
    "        try:\n",
    "            df[col] = pd.to_datetime(df[col].dropna(),errors='raise')\n",
    "        except:\n",
    "            pass\n",
    "        \n",
    "        if cardinality_ratio > 0.1:\n",
    "            high_cardinality_cols.append(col)\n",
    "            continue\n",
    "        \n",
    "        \n",
    "        categorical_cols.append(col)\n",
    "            \n",
    "        \n",
    "    return df, boolean_cols, boolean_mappings,high_cardinality_cols,categorical_cols"
   ]
  },
  {
   "cell_type": "code",
   "execution_count": 174,
   "metadata": {},
   "outputs": [
    {
     "name": "stderr",
     "output_type": "stream",
     "text": [
      "C:\\Users\\ahmed\\AppData\\Local\\Temp\\ipykernel_24308\\3184269756.py:29: UserWarning: Could not infer format, so each element will be parsed individually, falling back to `dateutil`. To ensure parsing is consistent and as-expected, please specify a format.\n",
      "  df[col] = pd.to_datetime(df[col].dropna(),errors='raise')\n"
     ]
    }
   ],
   "source": [
    "df,boolean_cols, boolean_mappings, high_cardinality_cols ,categorical_cols = identify_boolean(df)"
   ]
  },
  {
   "cell_type": "code",
   "execution_count": 175,
   "metadata": {},
   "outputs": [
    {
     "data": {
      "text/plain": [
       "['gender',\n",
       " 'SeniorCitizen',\n",
       " 'Partner',\n",
       " 'Dependents',\n",
       " 'PhoneService',\n",
       " 'PaperlessBilling',\n",
       " 'Churn']"
      ]
     },
     "execution_count": 175,
     "metadata": {},
     "output_type": "execute_result"
    }
   ],
   "source": [
    "boolean_cols\n"
   ]
  },
  {
   "cell_type": "code",
   "execution_count": 115,
   "metadata": {},
   "outputs": [],
   "source": [
    "def cleanup_numeric_cols (numeric_list, boolean_list, categorical_list):\n",
    "    numerical_cleaned_bool = list(set(numeric_list) - set(boolean_list))\n",
    "    numerical_cleaned_all = list(set(numerical_cleaned_bool) - set(categorical_list))\n",
    "    return numerical_cleaned_all"
   ]
  },
  {
   "cell_type": "code",
   "execution_count": 116,
   "metadata": {},
   "outputs": [],
   "source": [
    "numerical_cols = cleanup_numeric_cols(numeric_cols, boolean_cols, categorical_cols)"
   ]
  },
  {
   "cell_type": "code",
   "execution_count": 117,
   "metadata": {},
   "outputs": [],
   "source": [
    "\n",
    "def detect_outliers(df, numerical_cols,id_col):\n",
    "    IQR_report = []\n",
    "    Z_score_report = []\n",
    "    \n",
    "    \n",
    "    for col in numerical_cols:\n",
    "        Q1 = df[col].quantile(0.25)\n",
    "        Q3 = df[col].quantile(0.75)\n",
    "        IQR = Q3 - Q1\n",
    "        lower_bound = Q1- 1.5 * IQR\n",
    "        upper_bound = Q3 + 1.5 * IQR\n",
    "        \n",
    "        median_value = df[col].median()\n",
    "        \n",
    "        iqr_outliers = df.loc[(df[col] < lower_bound) | (df[col] > upper_bound),['customerID',col]].dropna()\n",
    "        for _,row in iqr_outliers.iterrows():\n",
    "            \n",
    "            IQR_report.append({\n",
    "                'id' : row[id_col],\n",
    "                'column': col,\n",
    "                'outlier_type':'IQR',\n",
    "                'value':row[col],\n",
    "                'median': median_value,\n",
    "            })\n",
    "        \n",
    "        mean = df[col].mean()\n",
    "        std = df[col].std()\n",
    "        z_scores = (df[col]-mean)/std\n",
    "        z_score_outliers = df.loc[(np.abs(z_scores)>3),['customerID',col]].dropna()\n",
    "        \n",
    "        for idx,row in z_score_outliers.iterrows():\n",
    "            Z_score_report.append({\n",
    "                'id':row[id_col],\n",
    "                'column':col,\n",
    "                'outlier_type':'Z-score',\n",
    "                'value':row[col],\n",
    "                'z_score': z_scores.loc[idx]\n",
    "            })       \n",
    "        plt.figure(figsize=(6,3))\n",
    "        plt.boxplot(df[col].dropna(), orientation='horizontal', whis=True)\n",
    "        plt.title(f'Box and Whisker Plot for {col}')\n",
    "        plt.show()\n",
    "        IQR_df = pd.DataFrame(IQR_report)\n",
    "        Z_score_df = pd.DataFrame(Z_score_report)\n",
    "        \n",
    "    \n",
    "    print('---------------------------IQR Report---------------------------')\n",
    "    display(IQR_df.style)\n",
    "    \n",
    "    print('----------------------Z-score Report ----------------------------')\n",
    "    display(Z_score_df.style)\n",
    "    return IQR_df, Z_score_df\n"
   ]
  },
  {
   "cell_type": "code",
   "execution_count": 118,
   "metadata": {},
   "outputs": [
    {
     "data": {
      "text/plain": [
       "['gender',\n",
       " 'SeniorCitizen',\n",
       " 'Partner',\n",
       " 'Dependents',\n",
       " 'PhoneService',\n",
       " 'PaperlessBilling']"
      ]
     },
     "execution_count": 118,
     "metadata": {},
     "output_type": "execute_result"
    }
   ],
   "source": [
    "boolean_cols"
   ]
  },
  {
   "cell_type": "code",
   "execution_count": null,
   "metadata": {},
   "outputs": [],
   "source": [
    "def binary_correlation(df,bool_cols,target):\n",
    "    for col in bool_cols:\n",
    "        "
   ]
  },
  {
   "cell_type": "code",
   "execution_count": null,
   "metadata": {},
   "outputs": [
    {
     "ename": "SyntaxError",
     "evalue": "incomplete input (1058195472.py, line 4)",
     "output_type": "error",
     "traceback": [
      "\u001b[1;36m  Cell \u001b[1;32mIn[86], line 4\u001b[1;36m\u001b[0m\n\u001b[1;33m    if df[col].isnull().sum() > 0:\u001b[0m\n\u001b[1;37m                                  ^\u001b[0m\n\u001b[1;31mSyntaxError\u001b[0m\u001b[1;31m:\u001b[0m incomplete input\n"
     ]
    }
   ],
   "source": [
    "def imputeBool(df, bool_cols, impute_strategy='auto'):\n",
    "    df_size = len(df)\n",
    "    if impute_strategy == 'auto':\n",
    "        for col in bool_cols:\n",
    "            if df[col].isnull().mean()<0.05:\n",
    "                df[col].fillna(df[col].mode()[0], inplace = True)\n",
    "                print(f'{col} imputed with modal strategy')\n",
    "            \n",
    "            \n",
    "            if df_size < 7000:  \n",
    "            \n",
    "    if impute_strategy == 'mode':\n",
    "        for col in bool_cols:\n",
    "            if df[col].isnull().sum() > 0:\n",
    "                if impute_strategy =='mode':\n",
    "                    df[col].fillna(df[col].mode()[0])\n",
    "                    \n",
    "    if impute_strategy == 'missing':\n",
    "        "
   ]
  },
  {
   "cell_type": "code",
   "execution_count": null,
   "metadata": {},
   "outputs": [
    {
     "data": {
      "text/plain": [
       "customerID          0.093060\n",
       "gender              0.094313\n",
       "SeniorCitizen       0.089456\n",
       "Partner             0.100423\n",
       "Dependents          0.099013\n",
       "tenure              0.094156\n",
       "PhoneService        0.094156\n",
       "MultipleLines       0.100580\n",
       "InternetService     0.088830\n",
       "OnlineSecurity      0.094783\n",
       "OnlineBackup        0.098386\n",
       "DeviceProtection    0.093373\n",
       "TechSupport         0.097446\n",
       "StreamingTV         0.096036\n",
       "StreamingMovies     0.096350\n",
       "Contract            0.099483\n",
       "PaperlessBilling    0.102146\n",
       "PaymentMethod       0.088673\n",
       "MonthlyCharges      0.105436\n",
       "TotalCharges        0.093373\n",
       "Churn               0.000000\n",
       "dtype: float64"
      ]
     },
     "execution_count": 88,
     "metadata": {},
     "output_type": "execute_result"
    }
   ],
   "source": []
  },
  {
   "cell_type": "code",
   "execution_count": null,
   "metadata": {},
   "outputs": [],
   "source": []
  }
 ],
 "metadata": {
  "kernelspec": {
   "display_name": "venv",
   "language": "python",
   "name": "python3"
  },
  "language_info": {
   "codemirror_mode": {
    "name": "ipython",
    "version": 3
   },
   "file_extension": ".py",
   "mimetype": "text/x-python",
   "name": "python",
   "nbconvert_exporter": "python",
   "pygments_lexer": "ipython3",
   "version": "3.11.9"
  }
 },
 "nbformat": 4,
 "nbformat_minor": 2
}
